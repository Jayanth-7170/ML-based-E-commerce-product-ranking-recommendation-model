{
  "nbformat": 4,
  "nbformat_minor": 0,
  "metadata": {
    "colab": {
      "name": "ML_mini_project.ipynb",
      "provenance": [],
      "collapsed_sections": []
    },
    "kernelspec": {
      "name": "python3",
      "display_name": "Python 3"
    },
    "language_info": {
      "name": "python"
    }
  },
  "cells": [
    {
      "cell_type": "markdown",
      "metadata": {
        "id": "kyqEN9dg_6-K"
      },
      "source": [
        "importing libraries"
      ]
    },
    {
      "cell_type": "code",
      "metadata": {
        "id": "e3OGrcDrbPVh"
      },
      "source": [
        "import pandas as pd\n",
        "import matplotlib.pyplot as plt\n",
        "import numpy as np\n",
        "from sklearn.ensemble import RandomForestClassifier\n",
        "from sklearn.preprocessing import StandardScaler\n",
        "from sklearn.neighbors import KNeighborsClassifier\n",
        "from sklearn.svm import SVC\n",
        "from sklearn.model_selection import train_test_split\n",
        "from sklearn.metrics import  accuracy_score\n",
        "from sklearn.model_selection import cross_val_score\n",
        "from sklearn.metrics import confusion_matrix, classification_report,mean_squared_error"
      ],
      "execution_count": null,
      "outputs": []
    },
    {
      "cell_type": "code",
      "metadata": {
        "colab": {
          "base_uri": "https://localhost:8080/",
          "height": 238
        },
        "id": "fi3mWXLjDev0",
        "outputId": "667c9e46-25f3-4d99-bdfa-10735e7f6369"
      },
      "source": [
        "data= pd.read_csv('e-shop clothing 2008.csv')\n",
        "data.columns=['year','month','day','order','country','session_ID','page_1','colour','location','model photography','price','price_2','page']\n",
        "print('No.of instances=%d' %(data.shape[0]))\n",
        "print('No.of attributes=%d' %(data.shape[1]))\n",
        "data.head()"
      ],
      "execution_count": null,
      "outputs": [
        {
          "output_type": "stream",
          "text": [
            "No.of instances=1000\n",
            "No.of attributes=13\n"
          ],
          "name": "stdout"
        },
        {
          "output_type": "execute_result",
          "data": {
            "text/html": [
              "<div>\n",
              "<style scoped>\n",
              "    .dataframe tbody tr th:only-of-type {\n",
              "        vertical-align: middle;\n",
              "    }\n",
              "\n",
              "    .dataframe tbody tr th {\n",
              "        vertical-align: top;\n",
              "    }\n",
              "\n",
              "    .dataframe thead th {\n",
              "        text-align: right;\n",
              "    }\n",
              "</style>\n",
              "<table border=\"1\" class=\"dataframe\">\n",
              "  <thead>\n",
              "    <tr style=\"text-align: right;\">\n",
              "      <th></th>\n",
              "      <th>year</th>\n",
              "      <th>month</th>\n",
              "      <th>day</th>\n",
              "      <th>order</th>\n",
              "      <th>country</th>\n",
              "      <th>session_ID</th>\n",
              "      <th>page_1</th>\n",
              "      <th>colour</th>\n",
              "      <th>location</th>\n",
              "      <th>model photography</th>\n",
              "      <th>price</th>\n",
              "      <th>price_2</th>\n",
              "      <th>page</th>\n",
              "    </tr>\n",
              "  </thead>\n",
              "  <tbody>\n",
              "    <tr>\n",
              "      <th>0</th>\n",
              "      <td>2008</td>\n",
              "      <td>4</td>\n",
              "      <td>1</td>\n",
              "      <td>1</td>\n",
              "      <td>29</td>\n",
              "      <td>1</td>\n",
              "      <td>1</td>\n",
              "      <td>1</td>\n",
              "      <td>5</td>\n",
              "      <td>1</td>\n",
              "      <td>28</td>\n",
              "      <td>2</td>\n",
              "      <td>1</td>\n",
              "    </tr>\n",
              "    <tr>\n",
              "      <th>1</th>\n",
              "      <td>2008</td>\n",
              "      <td>4</td>\n",
              "      <td>1</td>\n",
              "      <td>2</td>\n",
              "      <td>29</td>\n",
              "      <td>1</td>\n",
              "      <td>1</td>\n",
              "      <td>1</td>\n",
              "      <td>6</td>\n",
              "      <td>1</td>\n",
              "      <td>33</td>\n",
              "      <td>2</td>\n",
              "      <td>1</td>\n",
              "    </tr>\n",
              "    <tr>\n",
              "      <th>2</th>\n",
              "      <td>2008</td>\n",
              "      <td>4</td>\n",
              "      <td>1</td>\n",
              "      <td>3</td>\n",
              "      <td>29</td>\n",
              "      <td>1</td>\n",
              "      <td>2</td>\n",
              "      <td>10</td>\n",
              "      <td>2</td>\n",
              "      <td>1</td>\n",
              "      <td>52</td>\n",
              "      <td>1</td>\n",
              "      <td>1</td>\n",
              "    </tr>\n",
              "    <tr>\n",
              "      <th>3</th>\n",
              "      <td>2008</td>\n",
              "      <td>4</td>\n",
              "      <td>1</td>\n",
              "      <td>4</td>\n",
              "      <td>29</td>\n",
              "      <td>1</td>\n",
              "      <td>2</td>\n",
              "      <td>6</td>\n",
              "      <td>6</td>\n",
              "      <td>2</td>\n",
              "      <td>38</td>\n",
              "      <td>2</td>\n",
              "      <td>1</td>\n",
              "    </tr>\n",
              "    <tr>\n",
              "      <th>4</th>\n",
              "      <td>2008</td>\n",
              "      <td>4</td>\n",
              "      <td>1</td>\n",
              "      <td>5</td>\n",
              "      <td>29</td>\n",
              "      <td>1</td>\n",
              "      <td>2</td>\n",
              "      <td>4</td>\n",
              "      <td>3</td>\n",
              "      <td>2</td>\n",
              "      <td>52</td>\n",
              "      <td>1</td>\n",
              "      <td>1</td>\n",
              "    </tr>\n",
              "  </tbody>\n",
              "</table>\n",
              "</div>"
            ],
            "text/plain": [
              "   year  month  day  order  ...  model photography  price  price_2  page\n",
              "0  2008      4    1      1  ...                  1     28        2     1\n",
              "1  2008      4    1      2  ...                  1     33        2     1\n",
              "2  2008      4    1      3  ...                  1     52        1     1\n",
              "3  2008      4    1      4  ...                  2     38        2     1\n",
              "4  2008      4    1      5  ...                  2     52        1     1\n",
              "\n",
              "[5 rows x 13 columns]"
            ]
          },
          "metadata": {
            "tags": []
          },
          "execution_count": 196
        }
      ]
    },
    {
      "cell_type": "code",
      "metadata": {
        "colab": {
          "base_uri": "https://localhost:8080/"
        },
        "id": "0RoCW52UE32n",
        "outputId": "56f2d50d-7dfa-4f74-8a81-4577485407a5"
      },
      "source": [
        "print(data.info())\n"
      ],
      "execution_count": null,
      "outputs": [
        {
          "output_type": "stream",
          "text": [
            "<class 'pandas.core.frame.DataFrame'>\n",
            "RangeIndex: 1000 entries, 0 to 999\n",
            "Data columns (total 13 columns):\n",
            " #   Column             Non-Null Count  Dtype\n",
            "---  ------             --------------  -----\n",
            " 0   year               1000 non-null   int64\n",
            " 1   month              1000 non-null   int64\n",
            " 2   day                1000 non-null   int64\n",
            " 3   order              1000 non-null   int64\n",
            " 4   country            1000 non-null   int64\n",
            " 5   session_ID         1000 non-null   int64\n",
            " 6   page_1             1000 non-null   int64\n",
            " 7   colour             1000 non-null   int64\n",
            " 8   location           1000 non-null   int64\n",
            " 9   model photography  1000 non-null   int64\n",
            " 10  price              1000 non-null   int64\n",
            " 11  price_2            1000 non-null   int64\n",
            " 12  page               1000 non-null   int64\n",
            "dtypes: int64(13)\n",
            "memory usage: 101.7 KB\n",
            "None\n"
          ],
          "name": "stdout"
        }
      ]
    },
    {
      "cell_type": "markdown",
      "metadata": {
        "id": "olbrknsUvblJ"
      },
      "source": [
        "Splitting the dataset into train and test sets"
      ]
    },
    {
      "cell_type": "code",
      "metadata": {
        "id": "jPnLXJ3qsJGp"
      },
      "source": [
        "x = data.iloc[:,1:12].values\n",
        "y = data.iloc[:, -1].values\n",
        "y=y.reshape(-1,1)\n",
        "x_train,x_test,y_train,y_test = train_test_split(x,y,test_size=0.25, random_state =0)"
      ],
      "execution_count": null,
      "outputs": []
    },
    {
      "cell_type": "markdown",
      "metadata": {
        "id": "2nqYrrRrpvZp"
      },
      "source": [
        "# Classification Analysis:"
      ]
    },
    {
      "cell_type": "markdown",
      "metadata": {
        "id": "1j_O3_qsp-FR"
      },
      "source": [
        "# 1) Random forest"
      ]
    },
    {
      "cell_type": "code",
      "metadata": {
        "colab": {
          "base_uri": "https://localhost:8080/"
        },
        "id": "Ofoucs1sEf4R",
        "outputId": "e7f968ae-7031-46b9-90e0-af4f753fb982"
      },
      "source": [
        "model = RandomForestClassifier(n_estimators=100, max_depth=10, random_state=1)\n",
        "model.fit(x_train, y_train)\n",
        "accuracy=model.score(x_test, y_test)"
      ],
      "execution_count": null,
      "outputs": [
        {
          "output_type": "stream",
          "text": [
            "/usr/local/lib/python3.7/dist-packages/ipykernel_launcher.py:2: DataConversionWarning: A column-vector y was passed when a 1d array was expected. Please change the shape of y to (n_samples,), for example using ravel().\n",
            "  \n"
          ],
          "name": "stderr"
        }
      ]
    },
    {
      "cell_type": "code",
      "metadata": {
        "colab": {
          "base_uri": "https://localhost:8080/"
        },
        "id": "uKbpQjMbE6LV",
        "outputId": "c374b9c6-6a55-40b7-c671-43c21860d21c"
      },
      "source": [
        "print('The accuracy of the model is ',accuracy)\n",
        "print('\\nConfusion matrix:\\n',confusion_matrix(y_test,y_pred))\n",
        "print(classification_report(y_test,y_pred))"
      ],
      "execution_count": null,
      "outputs": [
        {
          "output_type": "stream",
          "text": [
            "The accuracy of the model is  0.84\n",
            "\n",
            "Confusion matrix:\n",
            " [[151   4   1   0   0]\n",
            " [ 34  14   2   0   0]\n",
            " [ 18   0   5   1   0]\n",
            " [ 11   4   0   1   0]\n",
            " [  4   0   0   0   0]]\n",
            "              precision    recall  f1-score   support\n",
            "\n",
            "           1       0.69      0.97      0.81       156\n",
            "           2       0.64      0.28      0.39        50\n",
            "           3       0.62      0.21      0.31        24\n",
            "           4       0.50      0.06      0.11        16\n",
            "           5       0.00      0.00      0.00         4\n",
            "\n",
            "    accuracy                           0.68       250\n",
            "   macro avg       0.49      0.30      0.32       250\n",
            "weighted avg       0.65      0.68      0.62       250\n",
            "\n"
          ],
          "name": "stdout"
        },
        {
          "output_type": "stream",
          "text": [
            "/usr/local/lib/python3.7/dist-packages/sklearn/metrics/_classification.py:1272: UndefinedMetricWarning: Precision and F-score are ill-defined and being set to 0.0 in labels with no predicted samples. Use `zero_division` parameter to control this behavior.\n",
            "  _warn_prf(average, modifier, msg_start, len(result))\n"
          ],
          "name": "stderr"
        }
      ]
    },
    {
      "cell_type": "markdown",
      "metadata": {
        "id": "EjrIP67LqD0J"
      },
      "source": [
        "# 2)Logistic Regression"
      ]
    },
    {
      "cell_type": "code",
      "metadata": {
        "colab": {
          "base_uri": "https://localhost:8080/"
        },
        "id": "2IXGFHhRD3kt",
        "outputId": "27145f0a-6cfc-4f82-814f-46b7e067e9fc"
      },
      "source": [
        "from sklearn.linear_model import LogisticRegression\n",
        "model = LogisticRegression(max_iter = 500000)\n",
        "model.fit(x_train, y_train)\n",
        "y_pred = model.predict(x_test)\n",
        "accuracy = model.score(x_test, y_test)"
      ],
      "execution_count": null,
      "outputs": [
        {
          "output_type": "stream",
          "text": [
            "/usr/local/lib/python3.7/dist-packages/sklearn/utils/validation.py:760: DataConversionWarning: A column-vector y was passed when a 1d array was expected. Please change the shape of y to (n_samples, ), for example using ravel().\n",
            "  y = column_or_1d(y, warn=True)\n"
          ],
          "name": "stderr"
        }
      ]
    },
    {
      "cell_type": "code",
      "metadata": {
        "colab": {
          "base_uri": "https://localhost:8080/"
        },
        "id": "AHaNHyILD9_m",
        "outputId": "fa455a39-efa6-4205-92c2-62f1bfc7739a"
      },
      "source": [
        "print('The accuracy of the model is ',accuracy)\n",
        "print('\\nConfusion matrix:\\n',confusion_matrix(y_test,y_pred))\n",
        "print(classification_report(y_test,y_pred))"
      ],
      "execution_count": null,
      "outputs": [
        {
          "output_type": "stream",
          "text": [
            "The accuracy of the model is  0.66\n",
            "\n",
            "Confusion matrix:\n",
            " [[147   8   1   0   0]\n",
            " [ 40   9   1   0   0]\n",
            " [ 16   1   5   2   0]\n",
            " [ 11   1   0   4   0]\n",
            " [  4   0   0   0   0]]\n",
            "              precision    recall  f1-score   support\n",
            "\n",
            "           1       0.67      0.94      0.79       156\n",
            "           2       0.47      0.18      0.26        50\n",
            "           3       0.71      0.21      0.32        24\n",
            "           4       0.67      0.25      0.36        16\n",
            "           5       0.00      0.00      0.00         4\n",
            "\n",
            "    accuracy                           0.66       250\n",
            "   macro avg       0.51      0.32      0.35       250\n",
            "weighted avg       0.63      0.66      0.60       250\n",
            "\n"
          ],
          "name": "stdout"
        },
        {
          "output_type": "stream",
          "text": [
            "/usr/local/lib/python3.7/dist-packages/sklearn/metrics/_classification.py:1272: UndefinedMetricWarning: Precision and F-score are ill-defined and being set to 0.0 in labels with no predicted samples. Use `zero_division` parameter to control this behavior.\n",
            "  _warn_prf(average, modifier, msg_start, len(result))\n"
          ],
          "name": "stderr"
        }
      ]
    },
    {
      "cell_type": "markdown",
      "metadata": {
        "id": "HO9SibdVqIip"
      },
      "source": [
        "# 3)K-Nearest Neighbour"
      ]
    },
    {
      "cell_type": "code",
      "metadata": {
        "colab": {
          "base_uri": "https://localhost:8080/"
        },
        "id": "viUFsH9nCQ6Y",
        "outputId": "f2f28c11-c523-454d-c601-902f8c949aa2"
      },
      "source": [
        "sc_x = StandardScaler()\n",
        "x_train = sc_x.fit_transform(x_train)\n",
        "x_test = sc_x.transform(x_test)\n",
        "classifier=KNeighborsClassifier(n_neighbors=5,metric='minkowski',p=2)\n",
        "classifier.fit(x_train,y_train)\n",
        "y_pred=classifier.predict(x_test)\n",
        "acc=accuracy_score(y_test, y_pred)\n"
      ],
      "execution_count": null,
      "outputs": [
        {
          "output_type": "stream",
          "text": [
            "/usr/local/lib/python3.7/dist-packages/ipykernel_launcher.py:5: DataConversionWarning: A column-vector y was passed when a 1d array was expected. Please change the shape of y to (n_samples, ), for example using ravel().\n",
            "  \"\"\"\n"
          ],
          "name": "stderr"
        }
      ]
    },
    {
      "cell_type": "code",
      "metadata": {
        "colab": {
          "base_uri": "https://localhost:8080/"
        },
        "id": "P3TBr1qTDZ8V",
        "outputId": "6a80c86f-7a4d-4502-8407-b315e9effe01"
      },
      "source": [
        "print(acc)\n",
        "print('\\nConfusion matrix:\\n',confusion_matrix(y_test,y_pred))\n",
        "print(classification_report(y_test,y_pred))"
      ],
      "execution_count": null,
      "outputs": [
        {
          "output_type": "stream",
          "text": [
            "0.708\n",
            "\n",
            "Confusion matrix:\n",
            " [[146   9   1   0   0]\n",
            " [ 24  25   1   0   0]\n",
            " [ 15   6   3   0   0]\n",
            " [ 11   2   0   3   0]\n",
            " [  4   0   0   0   0]]\n",
            "              precision    recall  f1-score   support\n",
            "\n",
            "           1       0.73      0.94      0.82       156\n",
            "           2       0.60      0.50      0.54        50\n",
            "           3       0.60      0.12      0.21        24\n",
            "           4       1.00      0.19      0.32        16\n",
            "           5       0.00      0.00      0.00         4\n",
            "\n",
            "    accuracy                           0.71       250\n",
            "   macro avg       0.59      0.35      0.38       250\n",
            "weighted avg       0.70      0.71      0.66       250\n",
            "\n"
          ],
          "name": "stdout"
        },
        {
          "output_type": "stream",
          "text": [
            "/usr/local/lib/python3.7/dist-packages/sklearn/metrics/_classification.py:1272: UndefinedMetricWarning: Precision and F-score are ill-defined and being set to 0.0 in labels with no predicted samples. Use `zero_division` parameter to control this behavior.\n",
            "  _warn_prf(average, modifier, msg_start, len(result))\n"
          ],
          "name": "stderr"
        }
      ]
    },
    {
      "cell_type": "markdown",
      "metadata": {
        "id": "HYl9oxyqqPlJ"
      },
      "source": [
        "# 4)Support vector machine (SVC) with Radial Basis function"
      ]
    },
    {
      "cell_type": "code",
      "metadata": {
        "id": "pQSA7itR9E9i"
      },
      "source": [
        "classifier = SVC(kernel = 'rbf', random_state = 0)\n",
        "classifier.fit(x_train, y_train)\n",
        "y_pred = classifier.predict(x_test)\n",
        "accuracy = cross_val_score(estimator = classifier, X = x_train, y = y_train, cv = 10)"
      ],
      "execution_count": null,
      "outputs": []
    },
    {
      "cell_type": "code",
      "metadata": {
        "colab": {
          "base_uri": "https://localhost:8080/"
        },
        "id": "Lvyhru5Y96U3",
        "outputId": "9740355b-1727-4e0b-8db5-4c8c92a7c68d"
      },
      "source": [
        "print('The accuracy of the model is ',accuracy.mean())\n",
        "print('\\nConfusion matrix:\\n',confusion_matrix(y_test,y_pred))\n",
        "print(classification_report(y_test,y_pred))"
      ],
      "execution_count": null,
      "outputs": [
        {
          "output_type": "stream",
          "text": [
            "The accuracy of the model is  0.6946666666666668\n",
            "\n",
            "Confusion matrix:\n",
            " [[154   1   1   0   0]\n",
            " [ 36  12   2   0   0]\n",
            " [ 17   1   6   0   0]\n",
            " [ 14   0   1   1   0]\n",
            " [  4   0   0   0   0]]\n",
            "              precision    recall  f1-score   support\n",
            "\n",
            "           1       0.68      0.99      0.81       156\n",
            "           2       0.86      0.24      0.38        50\n",
            "           3       0.60      0.25      0.35        24\n",
            "           4       1.00      0.06      0.12        16\n",
            "           5       0.00      0.00      0.00         4\n",
            "\n",
            "    accuracy                           0.69       250\n",
            "   macro avg       0.63      0.31      0.33       250\n",
            "weighted avg       0.72      0.69      0.62       250\n",
            "\n"
          ],
          "name": "stdout"
        },
        {
          "output_type": "stream",
          "text": [
            "/usr/local/lib/python3.7/dist-packages/sklearn/metrics/_classification.py:1272: UndefinedMetricWarning: Precision and F-score are ill-defined and being set to 0.0 in labels with no predicted samples. Use `zero_division` parameter to control this behavior.\n",
            "  _warn_prf(average, modifier, msg_start, len(result))\n"
          ],
          "name": "stderr"
        }
      ]
    },
    {
      "cell_type": "markdown",
      "metadata": {
        "id": "kANT7pQz_A1H"
      },
      "source": [
        "# 5)Support vector machine (SVC) with Polynomial function"
      ]
    },
    {
      "cell_type": "code",
      "metadata": {
        "id": "eCF4lKYm_APN"
      },
      "source": [
        " classifier = SVC(kernel = 'poly', random_state = 0)\n",
        "classifier.fit(x_train, y_train)\n",
        "y_pred = classifier.predict(x_test)\n",
        "accuracy = cross_val_score(estimator = classifier, X = x_train, y = y_train, cv = 10)"
      ],
      "execution_count": null,
      "outputs": []
    },
    {
      "cell_type": "code",
      "metadata": {
        "colab": {
          "base_uri": "https://localhost:8080/"
        },
        "id": "qzPVhJbqB7oi",
        "outputId": "fbe324d4-06d2-4d90-b036-f826d4958487"
      },
      "source": [
        "print('The accuracy of the model is ',accuracy.mean())\n",
        "print('\\nConfusion matrix:\\n',confusion_matrix(y_test,y_pred))\n",
        "print(classification_report(y_test,y_pred))"
      ],
      "execution_count": null,
      "outputs": [
        {
          "output_type": "stream",
          "text": [
            "The accuracy of the model is  0.6986666666666668\n",
            "\n",
            "Confusion matrix:\n",
            " [[151   4   1   0   0]\n",
            " [ 34  14   2   0   0]\n",
            " [ 18   0   5   1   0]\n",
            " [ 11   4   0   1   0]\n",
            " [  4   0   0   0   0]]\n",
            "              precision    recall  f1-score   support\n",
            "\n",
            "           1       0.69      0.97      0.81       156\n",
            "           2       0.64      0.28      0.39        50\n",
            "           3       0.62      0.21      0.31        24\n",
            "           4       0.50      0.06      0.11        16\n",
            "           5       0.00      0.00      0.00         4\n",
            "\n",
            "    accuracy                           0.68       250\n",
            "   macro avg       0.49      0.30      0.32       250\n",
            "weighted avg       0.65      0.68      0.62       250\n",
            "\n"
          ],
          "name": "stdout"
        },
        {
          "output_type": "stream",
          "text": [
            "/usr/local/lib/python3.7/dist-packages/sklearn/metrics/_classification.py:1272: UndefinedMetricWarning: Precision and F-score are ill-defined and being set to 0.0 in labels with no predicted samples. Use `zero_division` parameter to control this behavior.\n",
            "  _warn_prf(average, modifier, msg_start, len(result))\n"
          ],
          "name": "stderr"
        }
      ]
    }
  ]
}